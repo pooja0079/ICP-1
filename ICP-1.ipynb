{
  "nbformat": 4,
  "nbformat_minor": 0,
  "metadata": {
    "colab": {
      "provenance": []
    },
    "kernelspec": {
      "name": "python3",
      "display_name": "Python 3"
    },
    "language_info": {
      "name": "python"
    }
  },
  "cells": [
    {
      "cell_type": "code",
      "execution_count": 1,
      "metadata": {
        "colab": {
          "base_uri": "https://localhost:8080/"
        },
        "id": "iVIMULpJeUgH",
        "outputId": "4ad17d7c-8e03-46c0-9efe-5664c19d6646"
      },
      "outputs": [
        {
          "output_type": "stream",
          "name": "stdout",
          "text": [
            "Enter a string: python\n",
            "Reversed string: noht\n"
          ]
        }
      ],
      "source": [
        "input_string = input(\"Enter a string: \")\n",
        "if len(input_string) < 2:\n",
        "    print(\"Input string must have at least 2 characters.\")\n",
        "else:\n",
        "    modified_string = input_string[2:]\n",
        "\n",
        "    reversed_string = modified_string[::-1]\n",
        "\n",
        "    print(\"Reversed string:\", reversed_string)\n"
      ]
    },
    {
      "cell_type": "code",
      "source": [
        "num1 = float(input(\"Enter first number\"))\n",
        "num2 = float(input(\"eneter second number\"))\n",
        "print(\"Addition:\", num1+num2)\n",
        "print(\"Subtraction:\", num1-num2)\n",
        "print(\"Multiplication:\", num1*num2)\n",
        "print(\"Division:\", num1/num2)"
      ],
      "metadata": {
        "colab": {
          "base_uri": "https://localhost:8080/"
        },
        "id": "p7_tKU-zgB4Y",
        "outputId": "125b5701-1127-42ac-c6c6-3dc3a6ba6674"
      },
      "execution_count": 4,
      "outputs": [
        {
          "output_type": "stream",
          "name": "stdout",
          "text": [
            "Enter first number10\n",
            "eneter second number5\n",
            "Addition: 15.0\n",
            "Subtraction: 5.0\n",
            "Multiplication: 50.0\n",
            "Division: 2.0\n"
          ]
        }
      ]
    },
    {
      "cell_type": "code",
      "source": [
        "input_sentence = input(\"Enter a sentence: \")\n",
        "\n",
        "modified_sentence = input_sentence.replace('python', 'pythons')\n",
        "\n",
        "print(\"Modified sentence:\", modified_sentence)\n"
      ],
      "metadata": {
        "colab": {
          "base_uri": "https://localhost:8080/"
        },
        "id": "oZiCeqeshKoD",
        "outputId": "a27e8fef-b936-48cf-fcfe-da71649a8ecf"
      },
      "execution_count": 5,
      "outputs": [
        {
          "output_type": "stream",
          "name": "stdout",
          "text": [
            "Enter a sentence: I love playing with python\n",
            "Modified sentence: I love playing with pythons\n"
          ]
        }
      ]
    },
    {
      "cell_type": "code",
      "source": [
        "score = int(input(\"Enter class score \"))\n",
        "if(score>=90):\n",
        "  print(\"A\")\n",
        "elif(score>=80 and score<90):\n",
        "  print(\"B\")\n",
        "elif(score>=70 and score<80):\n",
        "  print(\"C\")\n",
        "elif(score>=60 and score<70):\n",
        "  print(\"D\")\n",
        "else:\n",
        "  print(\"F\")"
      ],
      "metadata": {
        "colab": {
          "base_uri": "https://localhost:8080/"
        },
        "id": "YDbX69x9heD1",
        "outputId": "62d03da4-ba7a-4246-f34c-6e94d0bc76a5"
      },
      "execution_count": 11,
      "outputs": [
        {
          "output_type": "stream",
          "name": "stdout",
          "text": [
            "Enter class score 85\n",
            "B\n"
          ]
        }
      ]
    }
  ]
}